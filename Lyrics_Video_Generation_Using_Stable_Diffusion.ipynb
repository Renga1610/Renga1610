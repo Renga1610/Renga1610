{
  "nbformat": 4,
  "nbformat_minor": 0,
  "metadata": {
    "colab": {
      "provenance": [],
      "private_outputs": true,
      "authorship_tag": "ABX9TyObM3VoSzZ5O3repg4p27QM",
      "include_colab_link": true
    },
    "kernelspec": {
      "name": "python3",
      "display_name": "Python 3"
    },
    "language_info": {
      "name": "python"
    },
    "accelerator": "GPU",
    "gpuClass": "standard"
  },
  "cells": [
    {
      "cell_type": "markdown",
      "metadata": {
        "id": "view-in-github",
        "colab_type": "text"
      },
      "source": [
        "<a href=\"https://colab.research.google.com/github/Renga1610/Renga1610/blob/main/Lyrics_Video_Generation_Using_Stable_Diffusion.ipynb\" target=\"_parent\"><img src=\"https://colab.research.google.com/assets/colab-badge.svg\" alt=\"Open In Colab\"/></a>"
      ]
    },
    {
      "cell_type": "markdown",
      "source": [
        "The idea to create lyrics using Video Generation for song lyrics, using MusixMatch Lyrics API.\n",
        "\n",
        "The api gives the song lyrics only and not the song itself or their timestamps. \n",
        "\n",
        "\n",
        "\n",
        "So, it strictly gives back GIF created from the lyrics with constant timestamp.\n"
      ],
      "metadata": {
        "id": "CGvXYWYW_bfx"
      }
    },
    {
      "cell_type": "code",
      "source": [
        "import requests\n",
        "import json"
      ],
      "metadata": {
        "id": "GzY9Q4-vjRZS"
      },
      "execution_count": null,
      "outputs": []
    },
    {
      "cell_type": "code",
      "source": [
        "!pip install keras-cv --upgrade --quiet"
      ],
      "metadata": {
        "id": "uxBDDGCFWhFC"
      },
      "execution_count": null,
      "outputs": []
    },
    {
      "cell_type": "code",
      "source": [
        "import keras_cv\n",
        "from tensorflow import keras\n",
        "import matplotlib.pyplot as plt\n",
        "import tensorflow as tf\n",
        "import numpy as np\n",
        "import math\n",
        "from PIL import Image, ImageFont, ImageDraw\n",
        "\n",
        "# Enable mixed precision\n",
        "# (only do this if you have a recent NVIDIA GPU)\n",
        "keras.mixed_precision.set_global_policy(\"mixed_float16\")\n",
        "\n",
        "# Instantiate the Stable Diffusion model\n",
        "model = keras_cv.models.StableDiffusion(jit_compile=True)"
      ],
      "metadata": {
        "id": "1vmlSYq1ctQc"
      },
      "execution_count": null,
      "outputs": []
    },
    {
      "cell_type": "markdown",
      "source": [
        "Input of the Artist and Song Name.\n",
        "It will fetch lyrics from musixmatch api"
      ],
      "metadata": {
        "id": "DF84w3mP_KRQ"
      }
    },
    {
      "cell_type": "code",
      "source": [
        "artist_name = \"the weeknd\"\n",
        "track_name = \"blinding lights\""
      ],
      "metadata": {
        "id": "_E-F1JCmvYQc"
      },
      "execution_count": null,
      "outputs": []
    },
    {
      "cell_type": "code",
      "source": [
        "base_url = \"https://api.musixmatch.com/ws/1.1/\"\n",
        "\n",
        "# your api key\n",
        "api_key = \"&apikey=a8184334ca9d25054d1022b742243663\"\n",
        "lyrics_matcher = \"matcher.lyrics.get\"\n",
        "format_url = \"?format=json&callback=callback\"\n",
        "artist_search_parameter = \"&q_artist=\"\n",
        "track_search_parameter = \"&q_track=\"\n",
        "\n",
        "api_call = base_url + lyrics_matcher + format_url + artist_search_parameter + artist_name + track_search_parameter + track_name + api_key\n",
        "\n",
        "request = requests.get(api_call)\n",
        "data = request.json()\n",
        "data = data['message']['body']\n",
        "print(\"API Call: \" + api_call)\n",
        "print()\n",
        "lyrics = data['lyrics']['lyrics_body']\n",
        "print(data['lyrics']['lyrics_body'])"
      ],
      "metadata": {
        "id": "Yve_APivpWVy"
      },
      "execution_count": null,
      "outputs": []
    },
    {
      "cell_type": "code",
      "source": [
        "lyric_list = lyrics.split(\"\\n\")"
      ],
      "metadata": {
        "id": "MJ-v7ysIBE8G"
      },
      "execution_count": null,
      "outputs": []
    },
    {
      "cell_type": "markdown",
      "source": [
        "Lyrics of the song"
      ],
      "metadata": {
        "id": "Gv3Kei7f__tT"
      }
    },
    {
      "cell_type": "code",
      "source": [
        "lyric_list"
      ],
      "metadata": {
        "id": "H5K4sgE3WUae"
      },
      "execution_count": null,
      "outputs": []
    },
    {
      "cell_type": "markdown",
      "source": [
        "I have given interpolation steps as 3 (constant).\n",
        "\n",
        "Timestamps data can be used to make a proper lyric format in future"
      ],
      "metadata": {
        "id": "Zn0ZrlQpAJ0d"
      }
    },
    {
      "cell_type": "code",
      "source": [
        "interpolation_steps = 3\n",
        "encoding = []\n",
        "\n",
        "for i in range(len(lyric_list)):\n",
        "  encoding.append(tf.squeeze(model.encode_text(lyric_list[i])))\n",
        "\n",
        "interpolated_encodings = []\n",
        "\n",
        "for i in range(len(lyric_list)-1):\n",
        "  interpolated_encodings.append(tf.linspace(encoding[i], encoding[i+1], interpolation_steps))\n",
        "\n",
        "# Show the size of the latent manifold\n",
        "print(f\"Encoding shape: {encoding[i].shape}\")"
      ],
      "metadata": {
        "id": "Wa9F1oquB-pR"
      },
      "execution_count": null,
      "outputs": []
    },
    {
      "cell_type": "code",
      "source": [
        "len(encoding)"
      ],
      "metadata": {
        "id": "tNmBtR3aSqi8"
      },
      "execution_count": null,
      "outputs": []
    },
    {
      "cell_type": "code",
      "source": [
        "seed = 12345\n",
        "noise = tf.random.normal((512 // 8, 512 // 8, 4), seed=seed)\n",
        "images = []\n",
        "for i in range(len(interpolated_encodings)):\n",
        "  images.append(model.generate_image(\n",
        "    interpolated_encodings[i],\n",
        "    batch_size=interpolation_steps,\n",
        "    diffusion_noise=noise,\n",
        "))"
      ],
      "metadata": {
        "id": "D7dXBI7iB_19"
      },
      "execution_count": null,
      "outputs": []
    },
    {
      "cell_type": "code",
      "source": [
        "import numpy as np\n",
        "images = np.array(images)"
      ],
      "metadata": {
        "id": "a4GKI274aH6K"
      },
      "execution_count": null,
      "outputs": []
    },
    {
      "cell_type": "code",
      "source": [
        "images = images.reshape(-1,512,512,3)"
      ],
      "metadata": {
        "id": "ekt36IWOaqrp"
      },
      "execution_count": null,
      "outputs": []
    },
    {
      "cell_type": "code",
      "source": [
        "pil_image = [Image.fromarray(img) for img in images]\n",
        "pil_d_image = []\n",
        "j = 0\n",
        "for i in range(len(pil_image)):\n",
        "  draw = ImageDraw.Draw(pil_image[i])\n",
        "  # use a bitmap font\n",
        "  font = ImageFont.load_default()\n",
        "  if i ==0:\n",
        "    lyric_draw = lyric_list[0]\n",
        "  elif i%3==0:\n",
        "    lyric_draw = lyric_list[j+1]\n",
        "    j = j+1\n",
        "  else:\n",
        "    lyric_draw = lyric_list[j]\n",
        "  draw.text((100, 100), lyric_draw, font=font, fill =\"red\")\n",
        "  pil_d_image.append(pil_image[i])"
      ],
      "metadata": {
        "id": "yC9fK5VJxqyZ"
      },
      "execution_count": null,
      "outputs": []
    },
    {
      "cell_type": "code",
      "source": [
        "def export_as_gif(filename, images, frames_per_second=10, rubber_band=False):\n",
        "    if rubber_band:\n",
        "        images += images[2:-1][::-1]\n",
        "\n",
        "    images[0].save(\n",
        "        filename,\n",
        "        save_all=True,\n",
        "        append_images=images[1:],\n",
        "        duration=1000 // frames_per_second,\n",
        "        loop=0,\n",
        "    )\n",
        "\n",
        "\n",
        "export_as_gif(\n",
        "    \"lyric_video.gif\",\n",
        "    pil_d_image,\n",
        "    frames_per_second=2,\n",
        "    rubber_band=True,\n",
        ")"
      ],
      "metadata": {
        "id": "4IjhPCCEEho1"
      },
      "execution_count": null,
      "outputs": []
    },
    {
      "cell_type": "code",
      "source": [
        "from IPython.display import Image as IImage\n",
        "IImage(\"lyric_video.gif\")"
      ],
      "metadata": {
        "id": "o_PGLL5Ea1hi"
      },
      "execution_count": null,
      "outputs": []
    }
  ]
}