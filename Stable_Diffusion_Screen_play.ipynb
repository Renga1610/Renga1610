{
  "nbformat": 4,
  "nbformat_minor": 0,
  "metadata": {
    "colab": {
      "provenance": [],
      "private_outputs": true,
      "authorship_tag": "ABX9TyMwEzdCmesLWjykkD2G/Ph0",
      "include_colab_link": true
    },
    "kernelspec": {
      "name": "python3",
      "display_name": "Python 3"
    },
    "language_info": {
      "name": "python"
    },
    "accelerator": "GPU",
    "gpuClass": "standard"
  },
  "cells": [
    {
      "cell_type": "markdown",
      "metadata": {
        "id": "view-in-github",
        "colab_type": "text"
      },
      "source": [
        "<a href=\"https://colab.research.google.com/github/Renga1610/Renga1610/blob/main/Stable_Diffusion_Screen_play.ipynb\" target=\"_parent\"><img src=\"https://colab.research.google.com/assets/colab-badge.svg\" alt=\"Open In Colab\"/></a>"
      ]
    },
    {
      "cell_type": "code",
      "execution_count": null,
      "metadata": {
        "id": "aU6njY2Mk6aL"
      },
      "outputs": [],
      "source": [
        "import tensorflow as tf"
      ]
    },
    {
      "cell_type": "code",
      "source": [
        "!pip install keras-cv --upgrade --quiet"
      ],
      "metadata": {
        "id": "W8a6WlM_lEMK"
      },
      "execution_count": null,
      "outputs": []
    },
    {
      "cell_type": "code",
      "source": [
        "import keras_cv\n",
        "from tensorflow import keras\n",
        "import matplotlib.pyplot as plt\n",
        "import tensorflow as tf\n",
        "import numpy as np\n",
        "import math\n",
        "from PIL import Image\n",
        "\n",
        "# Enable mixed precision\n",
        "# (only do this if you have a recent NVIDIA GPU)\n",
        "keras.mixed_precision.set_global_policy(\"mixed_float16\")\n",
        "\n",
        "# Instantiate the Stable Diffusion model\n",
        "model = keras_cv.models.StableDiffusion(jit_compile=True)"
      ],
      "metadata": {
        "id": "1vmlSYq1ctQc"
      },
      "execution_count": null,
      "outputs": []
    },
    {
      "cell_type": "code",
      "source": [
        "import requests\n",
        "\n",
        "url = \"https://timestamp-lyrics.p.rapidapi.com/extract-lyrics\"\n",
        "\n",
        "querystring = {\"name\":\"Blinding Lights\"}\n",
        "\n",
        "headers = {\n",
        "\t\"X-RapidAPI-Key\": \"f8101922admshe96fce0a2b7e46dp1a722ejsncc4388f87300\",\n",
        "\t\"X-RapidAPI-Host\": \"timestamp-lyrics.p.rapidapi.com\"\n",
        "}\n",
        "\n",
        "response = requests.request(\"GET\", url, headers=headers, params=querystring)\n",
        "\n",
        "print(response.text)"
      ],
      "metadata": {
        "id": "IkiPOvZv8oPL"
      },
      "execution_count": null,
      "outputs": []
    },
    {
      "cell_type": "code",
      "source": [
        "import http.client\n",
        "\n",
        "conn = http.client.HTTPSConnection(\"lyrics-plus.p.rapidapi.com\")\n",
        "\n",
        "headers = {\n",
        "    'X-RapidAPI-Key': \"f8101922admshe96fce0a2b7e46dp1a722ejsncc4388f87300\",\n",
        "    'X-RapidAPI-Host': \"lyrics-plus.p.rapidapi.com\"\n",
        "    }\n",
        "\n",
        "conn.request(\"GET\", \"/lyrics/hello/adele\", headers=headers)\n",
        "\n",
        "res = conn.getresponse()\n",
        "data = res.read()\n",
        "\n",
        "print(data.decode(\"utf-8\"))"
      ],
      "metadata": {
        "id": "KRJgZLFO-Opk"
      },
      "execution_count": null,
      "outputs": []
    },
    {
      "cell_type": "code",
      "source": [
        "import json\n",
        "\n",
        "parse_json = json.loads(data)"
      ],
      "metadata": {
        "id": "mriSIYFc_Cpg"
      },
      "execution_count": null,
      "outputs": []
    },
    {
      "cell_type": "code",
      "source": [
        "lyrics = parse_json['body']['lyrics']\n",
        "print(\"Hello by Adele Lyrics:\", lyrics)"
      ],
      "metadata": {
        "id": "qluIhn6L-R9c"
      },
      "execution_count": null,
      "outputs": []
    },
    {
      "cell_type": "code",
      "source": [
        "lyric_list = lyrics.split(\"\\n\")"
      ],
      "metadata": {
        "id": "MJ-v7ysIBE8G"
      },
      "execution_count": null,
      "outputs": []
    },
    {
      "cell_type": "code",
      "source": [
        "interpolation_steps = 5\n",
        "encoding = []\n",
        "\n",
        "for i in range(len(lyric_list)):\n",
        "  encoding.append(tf.squeeze(model.encode_text(lyric_list[i])))\n",
        "\n",
        "interpolated_encodings = []\n",
        "\n",
        "for i in range(len(lyric_list)-1):\n",
        "  interpolated_encodings.append(tf.linspace(encoding[i], encoding[i+1], interpolation_steps))\n",
        "\n",
        "# Show the size of the latent manifold\n",
        "print(f\"Encoding shape: {encoding[i].shape}\")"
      ],
      "metadata": {
        "id": "Wa9F1oquB-pR"
      },
      "execution_count": null,
      "outputs": []
    },
    {
      "cell_type": "code",
      "source": [
        "len(encoding)"
      ],
      "metadata": {
        "id": "tNmBtR3aSqi8"
      },
      "execution_count": null,
      "outputs": []
    },
    {
      "cell_type": "code",
      "source": [
        "seed = 12345\n",
        "noise = tf.random.normal((512 // 8, 512 // 8, 4), seed=seed)\n",
        "images = []\n",
        "for i in range(len(interpolated_encodings)):\n",
        "  images.append(model.generate_image(\n",
        "    interpolated_encodings[i],\n",
        "    batch_size=interpolation_steps,\n",
        "    diffusion_noise=noise,\n",
        "))"
      ],
      "metadata": {
        "id": "D7dXBI7iB_19"
      },
      "execution_count": null,
      "outputs": []
    },
    {
      "cell_type": "code",
      "source": [
        "import numpy as np\n",
        "images = np.array(images)"
      ],
      "metadata": {
        "id": "a4GKI274aH6K"
      },
      "execution_count": null,
      "outputs": []
    },
    {
      "cell_type": "code",
      "source": [
        "images = images.reshape(-1,512,512,3)"
      ],
      "metadata": {
        "id": "ekt36IWOaqrp"
      },
      "execution_count": null,
      "outputs": []
    },
    {
      "cell_type": "code",
      "source": [
        "def export_as_gif(filename, images, frames_per_second=10, rubber_band=False):\n",
        "    if rubber_band:\n",
        "        images += images[2:-1][::-1]\n",
        "    images[0].save(\n",
        "        filename,\n",
        "        save_all=True,\n",
        "        append_images=images[1:],\n",
        "        duration=1000 // frames_per_second,\n",
        "        loop=0,\n",
        "    )\n",
        "\n",
        "\n",
        "export_as_gif(\n",
        "    \"hello.gif\",\n",
        "    [Image.fromarray(img) for img in images],\n",
        "    frames_per_second=2,\n",
        "    rubber_band=True,\n",
        ")"
      ],
      "metadata": {
        "id": "4IjhPCCEEho1"
      },
      "execution_count": null,
      "outputs": []
    },
    {
      "cell_type": "code",
      "source": [
        "from IPython.display import Image as IImage\n",
        "IImage(\"hello.gif\")"
      ],
      "metadata": {
        "id": "o_PGLL5Ea1hi"
      },
      "execution_count": null,
      "outputs": []
    },
    {
      "cell_type": "code",
      "source": [],
      "metadata": {
        "id": "CF-HGPOGa33G"
      },
      "execution_count": null,
      "outputs": []
    }
  ]
}